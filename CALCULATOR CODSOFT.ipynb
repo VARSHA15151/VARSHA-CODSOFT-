{
 "cells": [
  {
   "cell_type": "markdown",
   "id": "0dfc44e4",
   "metadata": {},
   "source": [
    "# CREATE A CALCULATOR"
   ]
  },
  {
   "cell_type": "code",
   "execution_count": 1,
   "id": "817cce5b",
   "metadata": {},
   "outputs": [],
   "source": [
    "def add(x,y):\n",
    "    return x+y\n",
    "def subtract(x,y):\n",
    "    return x-y\n",
    "def multiply(x,y):\n",
    "    return x*y\n",
    "def divide(x,y):\n",
    "    if y==0:\n",
    "        return \"Error! Cannot divide by zero\"\n",
    "    else:\n",
    "        return x/y"
   ]
  },
  {
   "cell_type": "markdown",
   "id": "7b1fbe15",
   "metadata": {},
   "source": [
    "# MAIN CALCULATION FUCTION"
   ]
  },
  {
   "cell_type": "code",
   "execution_count": 2,
   "id": "10787947",
   "metadata": {},
   "outputs": [],
   "source": [
    "def Calculator():\n",
    "    print(\"Welcome to CALCULATOR\")\n",
    "    print(\"Select operation\")\n",
    "    print(\"1. Add\")\n",
    "    print(\"2. Subtract\")\n",
    "    print(\"3. Multiply\")\n",
    "    print(\"4. Divide\")"
   ]
  },
  {
   "cell_type": "code",
   "execution_count": 5,
   "id": "502df787",
   "metadata": {},
   "outputs": [
    {
     "name": "stdout",
     "output_type": "stream",
     "text": [
      "Welcome to CALCULATOR\n",
      "Select operation\n",
      "1. Add\n",
      "2. Subtract\n",
      "3. Multiply\n",
      "4. Divide\n",
      "Enter choice (1/2/3/4):4\n",
      "Enter first number:300\n",
      "Enter second number:5\n",
      "Result: 60.0\n"
     ]
    }
   ],
   "source": [
    " # call the calculator function to start.\n",
    "Calculator()\n",
    "choice = input (\"Enter choice (1/2/3/4):\")\n",
    "num1 = float(input(\"Enter first number:\"))\n",
    "num2 = float(input(\"Enter second number:\"))\n",
    "\n",
    "if choice == '1':\n",
    "    print(\"Result:\",add(num1,num2))\n",
    "elif choice == '2':\n",
    "        print(\"Result:\",subtract(num1,num2))\n",
    "elif choice == '3':\n",
    "            print(\"Result:\",multiply(num1,num2))\n",
    "elif choice == '4':\n",
    "                print(\"Result:\",divide(num1,num2))\n",
    "else:\n",
    "                    print(\"Invalid Input\")"
   ]
  }
 ],
 "metadata": {
  "kernelspec": {
   "display_name": "Python 3 (ipykernel)",
   "language": "python",
   "name": "python3"
  },
  "language_info": {
   "codemirror_mode": {
    "name": "ipython",
    "version": 3
   },
   "file_extension": ".py",
   "mimetype": "text/x-python",
   "name": "python",
   "nbconvert_exporter": "python",
   "pygments_lexer": "ipython3",
   "version": "3.11.5"
  }
 },
 "nbformat": 4,
 "nbformat_minor": 5
}
