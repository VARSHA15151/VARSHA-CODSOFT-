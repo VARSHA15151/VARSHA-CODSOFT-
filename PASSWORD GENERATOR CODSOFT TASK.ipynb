{
 "cells": [
  {
   "cell_type": "code",
   "execution_count": 2,
   "id": "39d70a04",
   "metadata": {},
   "outputs": [
    {
     "name": "stdout",
     "output_type": "stream",
     "text": [
      "Welcome to the Password Generator!\n",
      "Enter the length of the password: 4\n",
      "Include uppercase letters? (yes/no): no\n",
      "Include lowercase letters? (yes/no): no\n",
      "Include digits? (yes/no): yes\n",
      "Include symbols? (yes/no): no\n",
      "Generated Password: 0195\n"
     ]
    }
   ],
   "source": [
    "import random\n",
    "import string\n",
    "\n",
    "def generate_password(length=12, use_uppercase=True, use_lowercase=True, use_digits=True, use_symbols=True):\n",
    "    characters = ''\n",
    "    if use_uppercase:\n",
    "        characters += string.ascii_uppercase\n",
    "    if use_lowercase:\n",
    "        characters += string.ascii_lowercase\n",
    "    if use_digits:\n",
    "        characters += string.digits\n",
    "    if use_symbols:\n",
    "        characters += string.punctuation\n",
    "\n",
    "    if not any([use_uppercase, use_lowercase, use_digits, use_symbols]):\n",
    "        print(\"Error: At least one character type should be selected.\")\n",
    "        return None\n",
    "\n",
    "    password = ''.join(random.choice(characters) for _ in range(length))\n",
    "    return password\n",
    "\n",
    "def main():\n",
    "    print(\"Welcome to the Password Generator!\")\n",
    "    length = int(input(\"Enter the length of the password: \"))\n",
    "    use_uppercase = input(\"Include uppercase letters? (yes/no): \").lower() == 'yes'\n",
    "    use_lowercase = input(\"Include lowercase letters? (yes/no): \").lower() == 'yes'\n",
    "    use_digits = input(\"Include digits? (yes/no): \").lower() == 'yes'\n",
    "    use_symbols = input(\"Include symbols? (yes/no): \").lower() == 'yes'\n",
    "\n",
    "    password = generate_password(length, use_uppercase, use_lowercase, use_digits, use_symbols)\n",
    "    if password:\n",
    "        print(\"Generated Password:\", password)\n",
    "\n",
    "if __name__ == \"__main__\":\n",
    "    main()"
   ]
  },
  {
   "cell_type": "code",
   "execution_count": null,
   "id": "1b4385df",
   "metadata": {},
   "outputs": [],
   "source": []
  }
 ],
 "metadata": {
  "kernelspec": {
   "display_name": "Python 3 (ipykernel)",
   "language": "python",
   "name": "python3"
  },
  "language_info": {
   "codemirror_mode": {
    "name": "ipython",
    "version": 3
   },
   "file_extension": ".py",
   "mimetype": "text/x-python",
   "name": "python",
   "nbconvert_exporter": "python",
   "pygments_lexer": "ipython3",
   "version": "3.11.5"
  }
 },
 "nbformat": 4,
 "nbformat_minor": 5
}
