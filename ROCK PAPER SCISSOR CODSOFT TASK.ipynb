{
 "cells": [
  {
   "cell_type": "code",
   "execution_count": 39,
   "id": "b1d76e0b",
   "metadata": {},
   "outputs": [
    {
     "name": "stdout",
     "output_type": "stream",
     "text": [
      "Welcome to Rock, Paper, Scissors!\n",
      "Choose one: Rock, Paper, or Scissors\n",
      "Enter your choice: ROCK\n",
      "Computer's choice: paper\n",
      "OOPS!,You lose!,TRY AGAIN\n"
     ]
    }
   ],
   "source": [
    "import random\n",
    "\n",
    "def rock_paper_scissors():\n",
    "    print(\"Welcome to Rock, Paper, Scissors!\")\n",
    "    print(\"Choose one: Rock, Paper, or Scissors\")\n",
    "    choices = ['rock', 'paper', 'scissors']\n",
    "    user_choice = input(\"Enter your choice: \").lower()\n",
    "    computer_choice = random.choice(choices)\n",
    "\n",
    "    print(\"Computer's choice:\", computer_choice)\n",
    "\n",
    "    if user_choice == computer_choice:\n",
    "        print(\"It's a tie!\")\n",
    "    elif (user_choice == 'rock' and computer_choice == 'scissors') or \\\n",
    "         (user_choice == 'paper' and computer_choice == 'rock') or \\\n",
    "         (user_choice == 'scissors' and computer_choice == 'paper'):\n",
    "        print(\"CONGRATULATIONS!,You win!\")\n",
    "    else:\n",
    "        print(\"OOPS!,You lose!,TRY AGAIN\")\n",
    "\n",
    "rock_paper_scissors()"
   ]
  },
  {
   "cell_type": "code",
   "execution_count": null,
   "id": "8b9765a0",
   "metadata": {},
   "outputs": [],
   "source": []
  }
 ],
 "metadata": {
  "kernelspec": {
   "display_name": "Python 3 (ipykernel)",
   "language": "python",
   "name": "python3"
  },
  "language_info": {
   "codemirror_mode": {
    "name": "ipython",
    "version": 3
   },
   "file_extension": ".py",
   "mimetype": "text/x-python",
   "name": "python",
   "nbconvert_exporter": "python",
   "pygments_lexer": "ipython3",
   "version": "3.11.5"
  }
 },
 "nbformat": 4,
 "nbformat_minor": 5
}
